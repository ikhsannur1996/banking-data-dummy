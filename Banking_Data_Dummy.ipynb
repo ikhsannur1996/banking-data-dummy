{
  "nbformat": 4,
  "nbformat_minor": 0,
  "metadata": {
    "colab": {
      "provenance": [],
      "authorship_tag": "ABX9TyOpm6WcRsj+m8ZElavNLWoi"
    },
    "kernelspec": {
      "name": "python3",
      "display_name": "Python 3"
    },
    "language_info": {
      "name": "python"
    }
  },
  "cells": [
    {
      "cell_type": "code",
      "execution_count": null,
      "metadata": {
        "id": "8yghrCmPAs78"
      },
      "outputs": [],
      "source": [
        "import pandas as pd\n",
        "import numpy as np\n",
        "\n",
        "# Set the seed for reproducibility\n",
        "np.random.seed(0)\n",
        "\n",
        "# Define the probabilities for each category\n",
        "probabilities = {\n",
        "    'Gender': {'Male': 0.5, 'Female': 0.5},\n",
        "    'Occupation': {'Employee': 0.5, 'Self-Employed': 0.3, 'Retired': 0.2},\n",
        "    'Credit_History': {'Good': 0.2, 'Fair': 0.5, 'Poor': 0.3},\n",
        "    'Education_Level': {'High School': 0.2, 'Bachelor\\'s Degree': 0.4, 'Master\\'s Degree': 0.3, 'Ph.D.': 0.1},\n",
        "    'Employment_Status': {'Employed': 0.8, 'Unemployed': 0.1, 'Self-Employed': 0.1},\n",
        "    'Bank_Location': {'Jakarta': 0.1, 'Surabaya': 0.3, 'Bandung': 0.2, 'Semarang': 0.2, 'Bogor': 0.2}\n",
        "}\n",
        "\n",
        "# Set sample size\n",
        "sample_size = 100000\n",
        "\n",
        "# Generate random data for each column\n",
        "data = {\n",
        "    'Customer_ID': np.random.randint(100000, size=sample_size),\n",
        "    'Age': np.random.randint(18, 60, size=sample_size),\n",
        "    'Gender': np.random.choice(['Male', 'Female'], size=sample_size, p=[probabilities['Gender']['Male'], probabilities['Gender']['Female']]),\n",
        "    'Income': np.random.normal(15000000, 5000000, size=sample_size),\n",
        "    'Credit_Score': np.random.normal(700, 100, size=sample_size),\n",
        "    'Average_Account_Balance': np.random.normal(50000000, 20000000, size=sample_size),\n",
        "    'Loan_Amount': np.random.normal(20000000, 5000000, size=sample_size),\n",
        "    'Loan_Term': np.random.randint(12, 60, size=sample_size),\n",
        "    'Occupation': np.random.choice(['Employee', 'Self-Employed', 'Retired'], size=sample_size, p=[probabilities['Occupation']['Employee'], probabilities['Occupation']['Self-Employed'], probabilities['Occupation']['Retired']]),\n",
        "    'Average_Transactions_Per_Month': np.random.normal(5000000, 1000000, size=sample_size),\n",
        "    'Bank_Location': np.random.choice(['Jakarta', 'Surabaya', 'Bandung', 'Semarang', 'Bogor'], size=sample_size, p=[probabilities['Bank_Location']['Jakarta'], probabilities['Bank_Location']['Surabaya'], probabilities['Bank_Location']['Bandung'], probabilities['Bank_Location']['Semarang'], probabilities['Bank_Location']['Bogor']]),\n",
        "    'Credit_History': np.random.choice(['Good', 'Fair', 'Poor'], size=sample_size, p=[probabilities['Credit_History']['Good'], probabilities['Credit_History']['Fair'], probabilities['Credit_History']['Poor']]),\n",
        "    'Education_Level': np.random.choice(['High School', 'Bachelor\\'s Degree', 'Master\\'s Degree', 'Ph.D.'], size=sample_size, p=[probabilities['Education_Level']['High School'], probabilities['Education_Level']['Bachelor\\'s Degree'], probabilities['Education_Level']['Master\\'s Degree'], probabilities['Education_Level']['Ph.D.']]),\n",
        "    'Employment_Status': np.random.choice(['Employed', 'Unemployed', 'Self-Employed'], size=sample_size, p=[probabilities['Employment_Status']['Employed'], probabilities['Employment_Status']['Unemployed'], probabilities['Employment_Status']['Self-Employed']])\n",
        "}\n",
        "\n",
        "# Create the DataFrame\n",
        "df = pd.DataFrame(data)\n",
        "\n",
        "# Adjust 'Income' to be in intervals of 1,000,000\n",
        "df['Income'] = (df['Income'] // 1000000) * 1000000\n",
        "\n",
        "# Adjust 'Average_Account_Balance' to be in intervals of 1,000,000\n",
        "df['Average_Account_Balance'] = (df['Average_Account_Balance'] // 1000000) * 1000000\n",
        "\n",
        "# Adjust 'Average_Transactions_Per_Month' to be in intervals of 1,000,000\n",
        "df['Average_Transactions_Per_Month'] = (df['Average_Transactions_Per_Month'] // 1000000) * 1000000\n",
        "\n",
        "# Adjust 'Loan_Amount' to be in intervals of 1,000,000\n",
        "df['Loan_Amount'] = (df['Loan_Amount'] // 1000000) * 1000000\n",
        "\n",
        "# Save the DataFrame to a CSV file\n",
        "csv_filename = 'banking_data.csv'\n",
        "df.to_csv(csv_filename, index=False)\n",
        "\n",
        "print(f\"Data successfully saved to {csv_filename}\")"
      ]
    }
  ]
}